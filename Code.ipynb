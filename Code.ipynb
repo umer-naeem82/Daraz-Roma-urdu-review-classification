{
 "cells": [
  {
   "cell_type": "code",
   "execution_count": 1,
   "id": "06a7bd21-6a3c-4ee6-af8b-bf94e4ebbc70",
   "metadata": {},
   "outputs": [],
   "source": [
    "import numpy as np\n",
    "import pandas as pd\n",
    "import matplotlib.pyplot as plt\n",
    "import seaborn as sns"
   ]
  },
  {
   "cell_type": "code",
   "execution_count": 2,
   "id": "739c2e2b-dbc5-4965-a74c-d7e9e9f01afd",
   "metadata": {},
   "outputs": [
    {
     "name": "stdout",
     "output_type": "stream",
     "text": [
      "(3923, 10)\n"
     ]
    },
    {
     "data": {
      "text/html": [
       "<div>\n",
       "<style scoped>\n",
       "    .dataframe tbody tr th:only-of-type {\n",
       "        vertical-align: middle;\n",
       "    }\n",
       "\n",
       "    .dataframe tbody tr th {\n",
       "        vertical-align: top;\n",
       "    }\n",
       "\n",
       "    .dataframe thead th {\n",
       "        text-align: right;\n",
       "    }\n",
       "</style>\n",
       "<table border=\"1\" class=\"dataframe\">\n",
       "  <thead>\n",
       "    <tr style=\"text-align: right;\">\n",
       "      <th></th>\n",
       "      <th>Unnamed: 0</th>\n",
       "      <th>Product_ID</th>\n",
       "      <th>Customer_Name</th>\n",
       "      <th>Customer_ID</th>\n",
       "      <th>Date</th>\n",
       "      <th>Rating</th>\n",
       "      <th>Spam(1) and Not Spam(0)</th>\n",
       "      <th>Reviews</th>\n",
       "      <th>Sentiment</th>\n",
       "      <th>Features</th>\n",
       "    </tr>\n",
       "  </thead>\n",
       "  <tbody>\n",
       "    <tr>\n",
       "      <th>0</th>\n",
       "      <td>0</td>\n",
       "      <td>TE111EL1KXNGWNAFAMZ</td>\n",
       "      <td>itzmr7</td>\n",
       "      <td>6702</td>\n",
       "      <td>2019-11-09</td>\n",
       "      <td>1</td>\n",
       "      <td>0</td>\n",
       "      <td>mil gya hai acha hai aur toota howa b nai hai</td>\n",
       "      <td>Positive</td>\n",
       "      <td>['toota']</td>\n",
       "    </tr>\n",
       "    <tr>\n",
       "      <th>1</th>\n",
       "      <td>1</td>\n",
       "      <td>MI543EL02ACXSNAFAMZ</td>\n",
       "      <td>Afridi</td>\n",
       "      <td>396</td>\n",
       "      <td>2016-11-21</td>\n",
       "      <td>5</td>\n",
       "      <td>0</td>\n",
       "      <td>aram sy pocket may aa jta hai aur quality b ac...</td>\n",
       "      <td>Positive</td>\n",
       "      <td>['aram', 'pocket', 'quality']</td>\n",
       "    </tr>\n",
       "    <tr>\n",
       "      <th>2</th>\n",
       "      <td>2</td>\n",
       "      <td>MI543EL02ACXSNAFAMZ</td>\n",
       "      <td>Muhammed</td>\n",
       "      <td>3710</td>\n",
       "      <td>2018-10-22</td>\n",
       "      <td>2</td>\n",
       "      <td>0</td>\n",
       "      <td>sb sy achi chez apki customer service bhot ach...</td>\n",
       "      <td>Positive</td>\n",
       "      <td>['customer', 'products', 'orignal']</td>\n",
       "    </tr>\n",
       "    <tr>\n",
       "      <th>3</th>\n",
       "      <td>3</td>\n",
       "      <td>TE111EL1KXNGWNAFAMZ</td>\n",
       "      <td>Ghazanfar</td>\n",
       "      <td>1860</td>\n",
       "      <td>2017-10-06</td>\n",
       "      <td>3</td>\n",
       "      <td>0</td>\n",
       "      <td>back cover acha hai sai cuts hai aur soft b ha...</td>\n",
       "      <td>Positive</td>\n",
       "      <td>['back', 'cover', 'cuts', 'soft', 'protector',...</td>\n",
       "    </tr>\n",
       "    <tr>\n",
       "      <th>4</th>\n",
       "      <td>4</td>\n",
       "      <td>SO638EL103OUWNAFAMZ</td>\n",
       "      <td>Murtaza iqbal</td>\n",
       "      <td>3778</td>\n",
       "      <td>2017-08-31</td>\n",
       "      <td>4</td>\n",
       "      <td>0</td>\n",
       "      <td>shru may may thumb grip k khalif thi kyu k ext...</td>\n",
       "      <td>Negative</td>\n",
       "      <td>['thumb', 'grip', 'chezy', 'stock', 'controlle...</td>\n",
       "    </tr>\n",
       "  </tbody>\n",
       "</table>\n",
       "</div>"
      ],
      "text/plain": [
       "   Unnamed: 0           Product_ID  Customer_Name  Customer_ID       Date  \\\n",
       "0           0  TE111EL1KXNGWNAFAMZ         itzmr7         6702 2019-11-09   \n",
       "1           1  MI543EL02ACXSNAFAMZ         Afridi          396 2016-11-21   \n",
       "2           2  MI543EL02ACXSNAFAMZ       Muhammed         3710 2018-10-22   \n",
       "3           3  TE111EL1KXNGWNAFAMZ      Ghazanfar         1860 2017-10-06   \n",
       "4           4  SO638EL103OUWNAFAMZ  Murtaza iqbal         3778 2017-08-31   \n",
       "\n",
       "   Rating  Spam(1) and Not Spam(0)  \\\n",
       "0       1                        0   \n",
       "1       5                        0   \n",
       "2       2                        0   \n",
       "3       3                        0   \n",
       "4       4                        0   \n",
       "\n",
       "                                             Reviews Sentiment  \\\n",
       "0      mil gya hai acha hai aur toota howa b nai hai  Positive   \n",
       "1  aram sy pocket may aa jta hai aur quality b ac...  Positive   \n",
       "2  sb sy achi chez apki customer service bhot ach...  Positive   \n",
       "3  back cover acha hai sai cuts hai aur soft b ha...  Positive   \n",
       "4  shru may may thumb grip k khalif thi kyu k ext...  Negative   \n",
       "\n",
       "                                            Features  \n",
       "0                                          ['toota']  \n",
       "1                      ['aram', 'pocket', 'quality']  \n",
       "2                ['customer', 'products', 'orignal']  \n",
       "3  ['back', 'cover', 'cuts', 'soft', 'protector',...  \n",
       "4  ['thumb', 'grip', 'chezy', 'stock', 'controlle...  "
      ]
     },
     "execution_count": 2,
     "metadata": {},
     "output_type": "execute_result"
    }
   ],
   "source": [
    "df=pd.read_excel('Daraz.xlsx')\n",
    "print(df.shape)\n",
    "df.head()"
   ]
  },
  {
   "cell_type": "code",
   "execution_count": 3,
   "id": "4f593e40-fd07-4304-90b6-5b6f9179a2d0",
   "metadata": {},
   "outputs": [
    {
     "data": {
      "text/plain": [
       "Unnamed: 0                 0\n",
       "Product_ID                 0\n",
       "Customer_Name              0\n",
       "Customer_ID                0\n",
       "Date                       0\n",
       "Rating                     0\n",
       "Spam(1) and Not Spam(0)    0\n",
       "Reviews                    0\n",
       "Sentiment                  0\n",
       "Features                   0\n",
       "dtype: int64"
      ]
     },
     "execution_count": 3,
     "metadata": {},
     "output_type": "execute_result"
    }
   ],
   "source": [
    "df.isnull().sum()"
   ]
  },
  {
   "cell_type": "code",
   "execution_count": 4,
   "id": "fecdd98b-5265-4d35-b9ac-be655fe1dd9e",
   "metadata": {},
   "outputs": [
    {
     "data": {
      "text/plain": [
       "Index(['Unnamed: 0', 'Product_ID', 'Customer_Name', 'Customer_ID', 'Date',\n",
       "       'Rating', 'Spam(1) and Not Spam(0)', 'Reviews', 'Sentiment',\n",
       "       'Features'],\n",
       "      dtype='object')"
      ]
     },
     "execution_count": 4,
     "metadata": {},
     "output_type": "execute_result"
    }
   ],
   "source": [
    "df.columns"
   ]
  },
  {
   "cell_type": "code",
   "execution_count": 5,
   "id": "05d8bc83-51f9-4390-afb3-49f08c3d3ff0",
   "metadata": {},
   "outputs": [],
   "source": [
    "df.drop(['Product_ID','Customer_Name','Customer_ID','Date','Features','Unnamed: 0'],axis=1,inplace=True)"
   ]
  },
  {
   "cell_type": "code",
   "execution_count": 6,
   "id": "e92231e7-89de-4641-927d-10e52efaca3f",
   "metadata": {},
   "outputs": [
    {
     "data": {
      "text/html": [
       "<div>\n",
       "<style scoped>\n",
       "    .dataframe tbody tr th:only-of-type {\n",
       "        vertical-align: middle;\n",
       "    }\n",
       "\n",
       "    .dataframe tbody tr th {\n",
       "        vertical-align: top;\n",
       "    }\n",
       "\n",
       "    .dataframe thead th {\n",
       "        text-align: right;\n",
       "    }\n",
       "</style>\n",
       "<table border=\"1\" class=\"dataframe\">\n",
       "  <thead>\n",
       "    <tr style=\"text-align: right;\">\n",
       "      <th></th>\n",
       "      <th>Rating</th>\n",
       "      <th>Spam(1) and Not Spam(0)</th>\n",
       "      <th>Reviews</th>\n",
       "      <th>Sentiment</th>\n",
       "    </tr>\n",
       "  </thead>\n",
       "  <tbody>\n",
       "    <tr>\n",
       "      <th>0</th>\n",
       "      <td>1</td>\n",
       "      <td>0</td>\n",
       "      <td>mil gya hai acha hai aur toota howa b nai hai</td>\n",
       "      <td>Positive</td>\n",
       "    </tr>\n",
       "    <tr>\n",
       "      <th>1</th>\n",
       "      <td>5</td>\n",
       "      <td>0</td>\n",
       "      <td>aram sy pocket may aa jta hai aur quality b ac...</td>\n",
       "      <td>Positive</td>\n",
       "    </tr>\n",
       "    <tr>\n",
       "      <th>2</th>\n",
       "      <td>2</td>\n",
       "      <td>0</td>\n",
       "      <td>sb sy achi chez apki customer service bhot ach...</td>\n",
       "      <td>Positive</td>\n",
       "    </tr>\n",
       "    <tr>\n",
       "      <th>3</th>\n",
       "      <td>3</td>\n",
       "      <td>0</td>\n",
       "      <td>back cover acha hai sai cuts hai aur soft b ha...</td>\n",
       "      <td>Positive</td>\n",
       "    </tr>\n",
       "    <tr>\n",
       "      <th>4</th>\n",
       "      <td>4</td>\n",
       "      <td>0</td>\n",
       "      <td>shru may may thumb grip k khalif thi kyu k ext...</td>\n",
       "      <td>Negative</td>\n",
       "    </tr>\n",
       "  </tbody>\n",
       "</table>\n",
       "</div>"
      ],
      "text/plain": [
       "   Rating  Spam(1) and Not Spam(0)  \\\n",
       "0       1                        0   \n",
       "1       5                        0   \n",
       "2       2                        0   \n",
       "3       3                        0   \n",
       "4       4                        0   \n",
       "\n",
       "                                             Reviews Sentiment  \n",
       "0      mil gya hai acha hai aur toota howa b nai hai  Positive  \n",
       "1  aram sy pocket may aa jta hai aur quality b ac...  Positive  \n",
       "2  sb sy achi chez apki customer service bhot ach...  Positive  \n",
       "3  back cover acha hai sai cuts hai aur soft b ha...  Positive  \n",
       "4  shru may may thumb grip k khalif thi kyu k ext...  Negative  "
      ]
     },
     "execution_count": 6,
     "metadata": {},
     "output_type": "execute_result"
    }
   ],
   "source": [
    "df.head()"
   ]
  },
  {
   "cell_type": "markdown",
   "id": "f9c4af41-41ed-438d-b487-b51c91893867",
   "metadata": {},
   "source": [
    "## ----(Lets do analysis)----"
   ]
  },
  {
   "cell_type": "code",
   "execution_count": 7,
   "id": "4ca783a3-509d-453d-b946-e59d5f2f4d70",
   "metadata": {},
   "outputs": [
    {
     "data": {
      "text/plain": [
       "Positive    2372\n",
       "Negative     983\n",
       "Neutral      568\n",
       "Name: Sentiment, dtype: int64"
      ]
     },
     "execution_count": 7,
     "metadata": {},
     "output_type": "execute_result"
    }
   ],
   "source": [
    "df['Sentiment'].value_counts()"
   ]
  },
  {
   "cell_type": "code",
   "execution_count": 8,
   "id": "ac9515b4-309e-449f-8cd9-a41a37d20feb",
   "metadata": {},
   "outputs": [
    {
     "data": {
      "text/plain": [
       "0    3393\n",
       "1     530\n",
       "Name: Spam(1) and Not Spam(0), dtype: int64"
      ]
     },
     "execution_count": 8,
     "metadata": {},
     "output_type": "execute_result"
    }
   ],
   "source": [
    "df['Spam(1) and Not Spam(0)'].value_counts()"
   ]
  },
  {
   "cell_type": "code",
   "execution_count": 9,
   "id": "f8b71813-ed46-44c0-bb4e-7996ef6b82bf",
   "metadata": {},
   "outputs": [
    {
     "data": {
      "text/html": [
       "<div>\n",
       "<style scoped>\n",
       "    .dataframe tbody tr th:only-of-type {\n",
       "        vertical-align: middle;\n",
       "    }\n",
       "\n",
       "    .dataframe tbody tr th {\n",
       "        vertical-align: top;\n",
       "    }\n",
       "\n",
       "    .dataframe thead th {\n",
       "        text-align: right;\n",
       "    }\n",
       "</style>\n",
       "<table border=\"1\" class=\"dataframe\">\n",
       "  <thead>\n",
       "    <tr style=\"text-align: right;\">\n",
       "      <th></th>\n",
       "      <th>Rating</th>\n",
       "      <th>Spam(1) and Not Spam(0)</th>\n",
       "      <th>Reviews</th>\n",
       "      <th>Sentiment</th>\n",
       "    </tr>\n",
       "  </thead>\n",
       "  <tbody>\n",
       "    <tr>\n",
       "      <th>19</th>\n",
       "      <td>5</td>\n",
       "      <td>1</td>\n",
       "      <td>portrait mode bhot acha iss phone k camera may...</td>\n",
       "      <td>Positive</td>\n",
       "    </tr>\n",
       "    <tr>\n",
       "      <th>21</th>\n",
       "      <td>5</td>\n",
       "      <td>1</td>\n",
       "      <td>achi timing hai sirf  dino may agya hai</td>\n",
       "      <td>Neutral</td>\n",
       "    </tr>\n",
       "    <tr>\n",
       "      <th>23</th>\n",
       "      <td>5</td>\n",
       "      <td>1</td>\n",
       "      <td>audio achi hai base k sath</td>\n",
       "      <td>Positive</td>\n",
       "    </tr>\n",
       "    <tr>\n",
       "      <th>24</th>\n",
       "      <td>5</td>\n",
       "      <td>1</td>\n",
       "      <td>shukriya achi quality k lya mujhy pasnd hai is...</td>\n",
       "      <td>Positive</td>\n",
       "    </tr>\n",
       "    <tr>\n",
       "      <th>25</th>\n",
       "      <td>5</td>\n",
       "      <td>1</td>\n",
       "      <td>shukriya achi quality k lya aur iss ki audio b...</td>\n",
       "      <td>Positive</td>\n",
       "    </tr>\n",
       "    <tr>\n",
       "      <th>...</th>\n",
       "      <td>...</td>\n",
       "      <td>...</td>\n",
       "      <td>...</td>\n",
       "      <td>...</td>\n",
       "    </tr>\n",
       "    <tr>\n",
       "      <th>3896</th>\n",
       "      <td>5</td>\n",
       "      <td>1</td>\n",
       "      <td>mustahiq masnoaat ke sath behtareen company  b...</td>\n",
       "      <td>Positive</td>\n",
       "    </tr>\n",
       "    <tr>\n",
       "      <th>3897</th>\n",
       "      <td>5</td>\n",
       "      <td>1</td>\n",
       "      <td>qabil aetmaad aur saada mukammal tor par iss k...</td>\n",
       "      <td>Positive</td>\n",
       "    </tr>\n",
       "    <tr>\n",
       "      <th>3916</th>\n",
       "      <td>4</td>\n",
       "      <td>1</td>\n",
       "      <td>auto safai aur shamsi mutabqat ke af aal mojoo...</td>\n",
       "      <td>Neutral</td>\n",
       "    </tr>\n",
       "    <tr>\n",
       "      <th>3917</th>\n",
       "      <td>5</td>\n",
       "      <td>1</td>\n",
       "      <td>kaam se kaam bijli ki istemaal ke sath thandi ...</td>\n",
       "      <td>Positive</td>\n",
       "    </tr>\n",
       "    <tr>\n",
       "      <th>3921</th>\n",
       "      <td>5</td>\n",
       "      <td>1</td>\n",
       "      <td>mein nai iss ac ko hbl shop festa se khareeda ...</td>\n",
       "      <td>Negative</td>\n",
       "    </tr>\n",
       "  </tbody>\n",
       "</table>\n",
       "<p>530 rows × 4 columns</p>\n",
       "</div>"
      ],
      "text/plain": [
       "      Rating  Spam(1) and Not Spam(0)  \\\n",
       "19         5                        1   \n",
       "21         5                        1   \n",
       "23         5                        1   \n",
       "24         5                        1   \n",
       "25         5                        1   \n",
       "...      ...                      ...   \n",
       "3896       5                        1   \n",
       "3897       5                        1   \n",
       "3916       4                        1   \n",
       "3917       5                        1   \n",
       "3921       5                        1   \n",
       "\n",
       "                                                Reviews Sentiment  \n",
       "19    portrait mode bhot acha iss phone k camera may...  Positive  \n",
       "21              achi timing hai sirf  dino may agya hai   Neutral  \n",
       "23                           audio achi hai base k sath  Positive  \n",
       "24    shukriya achi quality k lya mujhy pasnd hai is...  Positive  \n",
       "25    shukriya achi quality k lya aur iss ki audio b...  Positive  \n",
       "...                                                 ...       ...  \n",
       "3896  mustahiq masnoaat ke sath behtareen company  b...  Positive  \n",
       "3897  qabil aetmaad aur saada mukammal tor par iss k...  Positive  \n",
       "3916  auto safai aur shamsi mutabqat ke af aal mojoo...   Neutral  \n",
       "3917  kaam se kaam bijli ki istemaal ke sath thandi ...  Positive  \n",
       "3921  mein nai iss ac ko hbl shop festa se khareeda ...  Negative  \n",
       "\n",
       "[530 rows x 4 columns]"
      ]
     },
     "execution_count": 9,
     "metadata": {},
     "output_type": "execute_result"
    }
   ],
   "source": [
    "df[df['Spam(1) and Not Spam(0)']==1]"
   ]
  },
  {
   "cell_type": "code",
   "execution_count": 10,
   "id": "f96c4876-af6c-470f-bf5a-e1f49d9b7033",
   "metadata": {},
   "outputs": [
    {
     "data": {
      "text/plain": [
       "Positive    356\n",
       "Negative    115\n",
       "Neutral      59\n",
       "Name: Sentiment, dtype: int64"
      ]
     },
     "execution_count": 10,
     "metadata": {},
     "output_type": "execute_result"
    }
   ],
   "source": [
    "df[df['Spam(1) and Not Spam(0)']==1]['Sentiment'].value_counts()"
   ]
  },
  {
   "cell_type": "code",
   "execution_count": 11,
   "id": "933384e4-a2d9-4e7d-9d9c-40f6bcacb289",
   "metadata": {},
   "outputs": [
    {
     "data": {
      "text/plain": [
       "19      portrait mode bhot acha iss phone k camera may...\n",
       "21                achi timing hai sirf  dino may agya hai\n",
       "23                             audio achi hai base k sath\n",
       "24      shukriya achi quality k lya mujhy pasnd hai is...\n",
       "25      shukriya achi quality k lya aur iss ki audio b...\n",
       "                              ...                        \n",
       "3896    mustahiq masnoaat ke sath behtareen company  b...\n",
       "3897    qabil aetmaad aur saada mukammal tor par iss k...\n",
       "3916    auto safai aur shamsi mutabqat ke af aal mojoo...\n",
       "3917    kaam se kaam bijli ki istemaal ke sath thandi ...\n",
       "3921    mein nai iss ac ko hbl shop festa se khareeda ...\n",
       "Name: Reviews, Length: 530, dtype: object"
      ]
     },
     "execution_count": 11,
     "metadata": {},
     "output_type": "execute_result"
    }
   ],
   "source": [
    "df[df['Spam(1) and Not Spam(0)']==1]['Reviews']"
   ]
  },
  {
   "cell_type": "code",
   "execution_count": 12,
   "id": "17ce4072-d0f6-424f-a465-031fcbdd9659",
   "metadata": {},
   "outputs": [
    {
     "data": {
      "text/html": [
       "<div>\n",
       "<style scoped>\n",
       "    .dataframe tbody tr th:only-of-type {\n",
       "        vertical-align: middle;\n",
       "    }\n",
       "\n",
       "    .dataframe tbody tr th {\n",
       "        vertical-align: top;\n",
       "    }\n",
       "\n",
       "    .dataframe thead th {\n",
       "        text-align: right;\n",
       "    }\n",
       "</style>\n",
       "<table border=\"1\" class=\"dataframe\">\n",
       "  <thead>\n",
       "    <tr style=\"text-align: right;\">\n",
       "      <th></th>\n",
       "      <th>Rating</th>\n",
       "      <th>Spam(1) and Not Spam(0)</th>\n",
       "      <th>Reviews</th>\n",
       "      <th>Sentiment</th>\n",
       "    </tr>\n",
       "  </thead>\n",
       "  <tbody>\n",
       "    <tr>\n",
       "      <th>79</th>\n",
       "      <td>5</td>\n",
       "      <td>1</td>\n",
       "      <td>aik din may product mil gya orignal seal tha a...</td>\n",
       "      <td>Negative</td>\n",
       "    </tr>\n",
       "    <tr>\n",
       "      <th>177</th>\n",
       "      <td>5</td>\n",
       "      <td>1</td>\n",
       "      <td>start delivery k lya aur  star phone k lya</td>\n",
       "      <td>Negative</td>\n",
       "    </tr>\n",
       "    <tr>\n",
       "      <th>223</th>\n",
       "      <td>3</td>\n",
       "      <td>1</td>\n",
       "      <td>pack kyunkay un  tea shirts mein se sirf  qabi...</td>\n",
       "      <td>Negative</td>\n",
       "    </tr>\n",
       "    <tr>\n",
       "      <th>262</th>\n",
       "      <td>3</td>\n",
       "      <td>1</td>\n",
       "      <td>s pack se meri sirf tashweesh yeh hai ke un te...</td>\n",
       "      <td>Negative</td>\n",
       "    </tr>\n",
       "    <tr>\n",
       "      <th>264</th>\n",
       "      <td>3</td>\n",
       "      <td>1</td>\n",
       "      <td>theek hai mein nai yeh shirts haal hi mein kha...</td>\n",
       "      <td>Negative</td>\n",
       "    </tr>\n",
       "    <tr>\n",
       "      <th>...</th>\n",
       "      <td>...</td>\n",
       "      <td>...</td>\n",
       "      <td>...</td>\n",
       "      <td>...</td>\n",
       "    </tr>\n",
       "    <tr>\n",
       "      <th>3738</th>\n",
       "      <td>4</td>\n",
       "      <td>1</td>\n",
       "      <td>mein asal mein iss baal spray pasand karta hon...</td>\n",
       "      <td>Negative</td>\n",
       "    </tr>\n",
       "    <tr>\n",
       "      <th>3741</th>\n",
       "      <td>3</td>\n",
       "      <td>1</td>\n",
       "      <td>ibtidayi tor par mein iss ke sath bohat khush ...</td>\n",
       "      <td>Negative</td>\n",
       "    </tr>\n",
       "    <tr>\n",
       "      <th>3820</th>\n",
       "      <td>5</td>\n",
       "      <td>1</td>\n",
       "      <td>mein nai apne zindagi ke waqt mein bohat se ch...</td>\n",
       "      <td>Negative</td>\n",
       "    </tr>\n",
       "    <tr>\n",
       "      <th>3879</th>\n",
       "      <td>3</td>\n",
       "      <td>1</td>\n",
       "      <td>jab ye puhanche tu iss masnoaat ko uper ki tar...</td>\n",
       "      <td>Negative</td>\n",
       "    </tr>\n",
       "    <tr>\n",
       "      <th>3921</th>\n",
       "      <td>5</td>\n",
       "      <td>1</td>\n",
       "      <td>mein nai iss ac ko hbl shop festa se khareeda ...</td>\n",
       "      <td>Negative</td>\n",
       "    </tr>\n",
       "  </tbody>\n",
       "</table>\n",
       "<p>88 rows × 4 columns</p>\n",
       "</div>"
      ],
      "text/plain": [
       "      Rating  Spam(1) and Not Spam(0)  \\\n",
       "79         5                        1   \n",
       "177        5                        1   \n",
       "223        3                        1   \n",
       "262        3                        1   \n",
       "264        3                        1   \n",
       "...      ...                      ...   \n",
       "3738       4                        1   \n",
       "3741       3                        1   \n",
       "3820       5                        1   \n",
       "3879       3                        1   \n",
       "3921       5                        1   \n",
       "\n",
       "                                                Reviews Sentiment  \n",
       "79    aik din may product mil gya orignal seal tha a...  Negative  \n",
       "177          start delivery k lya aur  star phone k lya  Negative  \n",
       "223   pack kyunkay un  tea shirts mein se sirf  qabi...  Negative  \n",
       "262   s pack se meri sirf tashweesh yeh hai ke un te...  Negative  \n",
       "264   theek hai mein nai yeh shirts haal hi mein kha...  Negative  \n",
       "...                                                 ...       ...  \n",
       "3738  mein asal mein iss baal spray pasand karta hon...  Negative  \n",
       "3741  ibtidayi tor par mein iss ke sath bohat khush ...  Negative  \n",
       "3820  mein nai apne zindagi ke waqt mein bohat se ch...  Negative  \n",
       "3879  jab ye puhanche tu iss masnoaat ko uper ki tar...  Negative  \n",
       "3921  mein nai iss ac ko hbl shop festa se khareeda ...  Negative  \n",
       "\n",
       "[88 rows x 4 columns]"
      ]
     },
     "execution_count": 12,
     "metadata": {},
     "output_type": "execute_result"
    }
   ],
   "source": [
    "df[(df['Spam(1) and Not Spam(0)']==1) & (df['Sentiment']=='Negative') & (df['Rating']>2)]"
   ]
  },
  {
   "cell_type": "code",
   "execution_count": 13,
   "id": "015ecd2f-61fb-413e-8afb-6919c2d98024",
   "metadata": {},
   "outputs": [
    {
     "data": {
      "text/html": [
       "<div>\n",
       "<style scoped>\n",
       "    .dataframe tbody tr th:only-of-type {\n",
       "        vertical-align: middle;\n",
       "    }\n",
       "\n",
       "    .dataframe tbody tr th {\n",
       "        vertical-align: top;\n",
       "    }\n",
       "\n",
       "    .dataframe thead th {\n",
       "        text-align: right;\n",
       "    }\n",
       "</style>\n",
       "<table border=\"1\" class=\"dataframe\">\n",
       "  <thead>\n",
       "    <tr style=\"text-align: right;\">\n",
       "      <th></th>\n",
       "      <th>Rating</th>\n",
       "      <th>Spam(1) and Not Spam(0)</th>\n",
       "      <th>Reviews</th>\n",
       "      <th>Sentiment</th>\n",
       "    </tr>\n",
       "  </thead>\n",
       "  <tbody>\n",
       "    <tr>\n",
       "      <th>4</th>\n",
       "      <td>4</td>\n",
       "      <td>0</td>\n",
       "      <td>shru may may thumb grip k khalif thi kyu k ext...</td>\n",
       "      <td>Negative</td>\n",
       "    </tr>\n",
       "    <tr>\n",
       "      <th>7</th>\n",
       "      <td>5</td>\n",
       "      <td>0</td>\n",
       "      <td>iss ka pura packge jis may naya chipset hai au...</td>\n",
       "      <td>Negative</td>\n",
       "    </tr>\n",
       "    <tr>\n",
       "      <th>10</th>\n",
       "      <td>4</td>\n",
       "      <td>0</td>\n",
       "      <td>iss may iss ki cable nai h aur iss k speaker b...</td>\n",
       "      <td>Negative</td>\n",
       "    </tr>\n",
       "    <tr>\n",
       "      <th>16</th>\n",
       "      <td>3</td>\n",
       "      <td>0</td>\n",
       "      <td>in k headphone ziyda buri nai hai lakin may ka...</td>\n",
       "      <td>Negative</td>\n",
       "    </tr>\n",
       "    <tr>\n",
       "      <th>54</th>\n",
       "      <td>4</td>\n",
       "      <td>0</td>\n",
       "      <td>mujhy iss ki cable nai mili iss k daby may</td>\n",
       "      <td>Negative</td>\n",
       "    </tr>\n",
       "    <tr>\n",
       "      <th>...</th>\n",
       "      <td>...</td>\n",
       "      <td>...</td>\n",
       "      <td>...</td>\n",
       "      <td>...</td>\n",
       "    </tr>\n",
       "    <tr>\n",
       "      <th>3889</th>\n",
       "      <td>5</td>\n",
       "      <td>0</td>\n",
       "      <td>masnoaat ki ahliat aur tarseel ke lehaz se un ...</td>\n",
       "      <td>Negative</td>\n",
       "    </tr>\n",
       "    <tr>\n",
       "      <th>3905</th>\n",
       "      <td>4</td>\n",
       "      <td>0</td>\n",
       "      <td>agarchay iss ka waqt lag raha hai lekin miyaar...</td>\n",
       "      <td>Negative</td>\n",
       "    </tr>\n",
       "    <tr>\n",
       "      <th>3912</th>\n",
       "      <td>5</td>\n",
       "      <td>0</td>\n",
       "      <td>mujhe yeh pasand hai lekin taham yeh chota hai...</td>\n",
       "      <td>Negative</td>\n",
       "    </tr>\n",
       "    <tr>\n",
       "      <th>3914</th>\n",
       "      <td>5</td>\n",
       "      <td>0</td>\n",
       "      <td>mein nai pichlle mahinay khareeda</td>\n",
       "      <td>Negative</td>\n",
       "    </tr>\n",
       "    <tr>\n",
       "      <th>3921</th>\n",
       "      <td>5</td>\n",
       "      <td>1</td>\n",
       "      <td>mein nai iss ac ko hbl shop festa se khareeda ...</td>\n",
       "      <td>Negative</td>\n",
       "    </tr>\n",
       "  </tbody>\n",
       "</table>\n",
       "<p>561 rows × 4 columns</p>\n",
       "</div>"
      ],
      "text/plain": [
       "      Rating  Spam(1) and Not Spam(0)  \\\n",
       "4          4                        0   \n",
       "7          5                        0   \n",
       "10         4                        0   \n",
       "16         3                        0   \n",
       "54         4                        0   \n",
       "...      ...                      ...   \n",
       "3889       5                        0   \n",
       "3905       4                        0   \n",
       "3912       5                        0   \n",
       "3914       5                        0   \n",
       "3921       5                        1   \n",
       "\n",
       "                                                Reviews Sentiment  \n",
       "4     shru may may thumb grip k khalif thi kyu k ext...  Negative  \n",
       "7     iss ka pura packge jis may naya chipset hai au...  Negative  \n",
       "10    iss may iss ki cable nai h aur iss k speaker b...  Negative  \n",
       "16    in k headphone ziyda buri nai hai lakin may ka...  Negative  \n",
       "54           mujhy iss ki cable nai mili iss k daby may  Negative  \n",
       "...                                                 ...       ...  \n",
       "3889  masnoaat ki ahliat aur tarseel ke lehaz se un ...  Negative  \n",
       "3905  agarchay iss ka waqt lag raha hai lekin miyaar...  Negative  \n",
       "3912  mujhe yeh pasand hai lekin taham yeh chota hai...  Negative  \n",
       "3914                  mein nai pichlle mahinay khareeda  Negative  \n",
       "3921  mein nai iss ac ko hbl shop festa se khareeda ...  Negative  \n",
       "\n",
       "[561 rows x 4 columns]"
      ]
     },
     "execution_count": 13,
     "metadata": {},
     "output_type": "execute_result"
    }
   ],
   "source": [
    "df[(df['Sentiment']=='Negative') & (df['Rating']>2)]"
   ]
  },
  {
   "cell_type": "code",
   "execution_count": 14,
   "id": "f174796d-2245-48a7-936b-b3073bc84e08",
   "metadata": {},
   "outputs": [],
   "source": [
    "rows_to_remove = df[(df['Sentiment']=='Negative') & (df['Rating']>2)].index\n",
    "df=df.drop(rows_to_remove)"
   ]
  },
  {
   "cell_type": "code",
   "execution_count": 15,
   "id": "6ce06857-1f68-4c50-af4e-e82be2f28533",
   "metadata": {},
   "outputs": [
    {
     "data": {
      "text/plain": [
       "(3362, 4)"
      ]
     },
     "execution_count": 15,
     "metadata": {},
     "output_type": "execute_result"
    }
   ],
   "source": [
    "df.shape"
   ]
  },
  {
   "cell_type": "code",
   "execution_count": 16,
   "id": "bc5763fe-29f4-40d6-b377-17f3081220ec",
   "metadata": {},
   "outputs": [
    {
     "data": {
      "text/html": [
       "<div>\n",
       "<style scoped>\n",
       "    .dataframe tbody tr th:only-of-type {\n",
       "        vertical-align: middle;\n",
       "    }\n",
       "\n",
       "    .dataframe tbody tr th {\n",
       "        vertical-align: top;\n",
       "    }\n",
       "\n",
       "    .dataframe thead th {\n",
       "        text-align: right;\n",
       "    }\n",
       "</style>\n",
       "<table border=\"1\" class=\"dataframe\">\n",
       "  <thead>\n",
       "    <tr style=\"text-align: right;\">\n",
       "      <th></th>\n",
       "      <th>Rating</th>\n",
       "      <th>Spam(1) and Not Spam(0)</th>\n",
       "      <th>Reviews</th>\n",
       "      <th>Sentiment</th>\n",
       "    </tr>\n",
       "  </thead>\n",
       "  <tbody>\n",
       "    <tr>\n",
       "      <th>0</th>\n",
       "      <td>1</td>\n",
       "      <td>0</td>\n",
       "      <td>mil gya hai acha hai aur toota howa b nai hai</td>\n",
       "      <td>Positive</td>\n",
       "    </tr>\n",
       "    <tr>\n",
       "      <th>2</th>\n",
       "      <td>2</td>\n",
       "      <td>0</td>\n",
       "      <td>sb sy achi chez apki customer service bhot ach...</td>\n",
       "      <td>Positive</td>\n",
       "    </tr>\n",
       "    <tr>\n",
       "      <th>13</th>\n",
       "      <td>2</td>\n",
       "      <td>0</td>\n",
       "      <td>jaizay dekhnay ke baad khareeda gaya lekin muj...</td>\n",
       "      <td>Positive</td>\n",
       "    </tr>\n",
       "    <tr>\n",
       "      <th>14</th>\n",
       "      <td>2</td>\n",
       "      <td>0</td>\n",
       "      <td>iss mein koi ox kibl shaamil nahi hai mein ny ...</td>\n",
       "      <td>Positive</td>\n",
       "    </tr>\n",
       "    <tr>\n",
       "      <th>32</th>\n",
       "      <td>1</td>\n",
       "      <td>0</td>\n",
       "      <td>iss k batter ie k issues hai aur customer serv...</td>\n",
       "      <td>Positive</td>\n",
       "    </tr>\n",
       "    <tr>\n",
       "      <th>...</th>\n",
       "      <td>...</td>\n",
       "      <td>...</td>\n",
       "      <td>...</td>\n",
       "      <td>...</td>\n",
       "    </tr>\n",
       "    <tr>\n",
       "      <th>3835</th>\n",
       "      <td>1</td>\n",
       "      <td>0</td>\n",
       "      <td>sab se pehlay yeh bohat der se aya dosra gandi...</td>\n",
       "      <td>Positive</td>\n",
       "    </tr>\n",
       "    <tr>\n",
       "      <th>3841</th>\n",
       "      <td>2</td>\n",
       "      <td>0</td>\n",
       "      <td>darwaaza kaam miyaar hai maadni istemaal kaam ...</td>\n",
       "      <td>Positive</td>\n",
       "    </tr>\n",
       "    <tr>\n",
       "      <th>3854</th>\n",
       "      <td>1</td>\n",
       "      <td>0</td>\n",
       "      <td>ahem wazahat iss dd c invertor ai si ko dikha ...</td>\n",
       "      <td>Positive</td>\n",
       "    </tr>\n",
       "    <tr>\n",
       "      <th>3915</th>\n",
       "      <td>2</td>\n",
       "      <td>0</td>\n",
       "      <td>iss article mein koi auto car tareeqay se safa...</td>\n",
       "      <td>Positive</td>\n",
       "    </tr>\n",
       "    <tr>\n",
       "      <th>3922</th>\n",
       "      <td>1</td>\n",
       "      <td>0</td>\n",
       "      <td>aik puranay model bheja gaya tha jo ab bazaar ...</td>\n",
       "      <td>Positive</td>\n",
       "    </tr>\n",
       "  </tbody>\n",
       "</table>\n",
       "<p>146 rows × 4 columns</p>\n",
       "</div>"
      ],
      "text/plain": [
       "      Rating  Spam(1) and Not Spam(0)  \\\n",
       "0          1                        0   \n",
       "2          2                        0   \n",
       "13         2                        0   \n",
       "14         2                        0   \n",
       "32         1                        0   \n",
       "...      ...                      ...   \n",
       "3835       1                        0   \n",
       "3841       2                        0   \n",
       "3854       1                        0   \n",
       "3915       2                        0   \n",
       "3922       1                        0   \n",
       "\n",
       "                                                Reviews Sentiment  \n",
       "0         mil gya hai acha hai aur toota howa b nai hai  Positive  \n",
       "2     sb sy achi chez apki customer service bhot ach...  Positive  \n",
       "13    jaizay dekhnay ke baad khareeda gaya lekin muj...  Positive  \n",
       "14    iss mein koi ox kibl shaamil nahi hai mein ny ...  Positive  \n",
       "32    iss k batter ie k issues hai aur customer serv...  Positive  \n",
       "...                                                 ...       ...  \n",
       "3835  sab se pehlay yeh bohat der se aya dosra gandi...  Positive  \n",
       "3841  darwaaza kaam miyaar hai maadni istemaal kaam ...  Positive  \n",
       "3854  ahem wazahat iss dd c invertor ai si ko dikha ...  Positive  \n",
       "3915  iss article mein koi auto car tareeqay se safa...  Positive  \n",
       "3922  aik puranay model bheja gaya tha jo ab bazaar ...  Positive  \n",
       "\n",
       "[146 rows x 4 columns]"
      ]
     },
     "execution_count": 16,
     "metadata": {},
     "output_type": "execute_result"
    }
   ],
   "source": [
    "df[(df['Sentiment']=='Positive') & (df['Rating']<=2)]"
   ]
  },
  {
   "cell_type": "code",
   "execution_count": 17,
   "id": "a93bb1df-2f99-4369-ba30-65b5c519600a",
   "metadata": {},
   "outputs": [],
   "source": [
    "rows_to_remove = df[(df['Sentiment']=='Positive') & (df['Rating']<=2)].index\n",
    "df=df.drop(rows_to_remove)"
   ]
  },
  {
   "cell_type": "code",
   "execution_count": 18,
   "id": "bc98e55a-a1a5-47e6-9e16-bde8fedf32b7",
   "metadata": {},
   "outputs": [
    {
     "data": {
      "text/plain": [
       "(3216, 4)"
      ]
     },
     "execution_count": 18,
     "metadata": {},
     "output_type": "execute_result"
    }
   ],
   "source": [
    "df.shape"
   ]
  },
  {
   "cell_type": "code",
   "execution_count": 19,
   "id": "838806cd-fb72-4bb9-b0d3-e19a2faa76d0",
   "metadata": {},
   "outputs": [
    {
     "data": {
      "text/html": [
       "<div>\n",
       "<style scoped>\n",
       "    .dataframe tbody tr th:only-of-type {\n",
       "        vertical-align: middle;\n",
       "    }\n",
       "\n",
       "    .dataframe tbody tr th {\n",
       "        vertical-align: top;\n",
       "    }\n",
       "\n",
       "    .dataframe thead th {\n",
       "        text-align: right;\n",
       "    }\n",
       "</style>\n",
       "<table border=\"1\" class=\"dataframe\">\n",
       "  <thead>\n",
       "    <tr style=\"text-align: right;\">\n",
       "      <th></th>\n",
       "      <th>Rating</th>\n",
       "      <th>Spam(1) and Not Spam(0)</th>\n",
       "      <th>Reviews</th>\n",
       "      <th>Sentiment</th>\n",
       "    </tr>\n",
       "  </thead>\n",
       "  <tbody>\n",
       "    <tr>\n",
       "      <th>1</th>\n",
       "      <td>5</td>\n",
       "      <td>0</td>\n",
       "      <td>aram sy pocket may aa jta hai aur quality b ac...</td>\n",
       "      <td>Positive</td>\n",
       "    </tr>\n",
       "    <tr>\n",
       "      <th>3</th>\n",
       "      <td>3</td>\n",
       "      <td>0</td>\n",
       "      <td>back cover acha hai sai cuts hai aur soft b ha...</td>\n",
       "      <td>Positive</td>\n",
       "    </tr>\n",
       "    <tr>\n",
       "      <th>5</th>\n",
       "      <td>5</td>\n",
       "      <td>0</td>\n",
       "      <td>may ny ya lya kyu k ya madad karti h acha karn...</td>\n",
       "      <td>Positive</td>\n",
       "    </tr>\n",
       "    <tr>\n",
       "      <th>6</th>\n",
       "      <td>4</td>\n",
       "      <td>0</td>\n",
       "      <td>mein neh shuru mein yeh haasil karne ki zahmat...</td>\n",
       "      <td>Positive</td>\n",
       "    </tr>\n",
       "    <tr>\n",
       "      <th>8</th>\n",
       "      <td>1</td>\n",
       "      <td>0</td>\n",
       "      <td>bohat mehanga kya hai mein iss price brikt mei...</td>\n",
       "      <td>Negative</td>\n",
       "    </tr>\n",
       "  </tbody>\n",
       "</table>\n",
       "</div>"
      ],
      "text/plain": [
       "   Rating  Spam(1) and Not Spam(0)  \\\n",
       "1       5                        0   \n",
       "3       3                        0   \n",
       "5       5                        0   \n",
       "6       4                        0   \n",
       "8       1                        0   \n",
       "\n",
       "                                             Reviews Sentiment  \n",
       "1  aram sy pocket may aa jta hai aur quality b ac...  Positive  \n",
       "3  back cover acha hai sai cuts hai aur soft b ha...  Positive  \n",
       "5  may ny ya lya kyu k ya madad karti h acha karn...  Positive  \n",
       "6  mein neh shuru mein yeh haasil karne ki zahmat...  Positive  \n",
       "8  bohat mehanga kya hai mein iss price brikt mei...  Negative  "
      ]
     },
     "execution_count": 19,
     "metadata": {},
     "output_type": "execute_result"
    }
   ],
   "source": [
    "df.head()"
   ]
  },
  {
   "cell_type": "code",
   "execution_count": 20,
   "id": "32721804-e25a-43b9-ae5b-73013cc65af1",
   "metadata": {},
   "outputs": [],
   "source": [
    "df.drop('Spam(1) and Not Spam(0)',axis=1,inplace=True)"
   ]
  },
  {
   "cell_type": "code",
   "execution_count": 21,
   "id": "0b72426d-dbe9-4ec5-8c4a-12d1a27125f6",
   "metadata": {},
   "outputs": [
    {
     "name": "stdout",
     "output_type": "stream",
     "text": [
      "(3216, 3)\n"
     ]
    },
    {
     "data": {
      "text/html": [
       "<div>\n",
       "<style scoped>\n",
       "    .dataframe tbody tr th:only-of-type {\n",
       "        vertical-align: middle;\n",
       "    }\n",
       "\n",
       "    .dataframe tbody tr th {\n",
       "        vertical-align: top;\n",
       "    }\n",
       "\n",
       "    .dataframe thead th {\n",
       "        text-align: right;\n",
       "    }\n",
       "</style>\n",
       "<table border=\"1\" class=\"dataframe\">\n",
       "  <thead>\n",
       "    <tr style=\"text-align: right;\">\n",
       "      <th></th>\n",
       "      <th>Rating</th>\n",
       "      <th>Reviews</th>\n",
       "      <th>Sentiment</th>\n",
       "    </tr>\n",
       "  </thead>\n",
       "  <tbody>\n",
       "    <tr>\n",
       "      <th>1</th>\n",
       "      <td>5</td>\n",
       "      <td>aram sy pocket may aa jta hai aur quality b ac...</td>\n",
       "      <td>Positive</td>\n",
       "    </tr>\n",
       "    <tr>\n",
       "      <th>3</th>\n",
       "      <td>3</td>\n",
       "      <td>back cover acha hai sai cuts hai aur soft b ha...</td>\n",
       "      <td>Positive</td>\n",
       "    </tr>\n",
       "    <tr>\n",
       "      <th>5</th>\n",
       "      <td>5</td>\n",
       "      <td>may ny ya lya kyu k ya madad karti h acha karn...</td>\n",
       "      <td>Positive</td>\n",
       "    </tr>\n",
       "    <tr>\n",
       "      <th>6</th>\n",
       "      <td>4</td>\n",
       "      <td>mein neh shuru mein yeh haasil karne ki zahmat...</td>\n",
       "      <td>Positive</td>\n",
       "    </tr>\n",
       "    <tr>\n",
       "      <th>8</th>\n",
       "      <td>1</td>\n",
       "      <td>bohat mehanga kya hai mein iss price brikt mei...</td>\n",
       "      <td>Negative</td>\n",
       "    </tr>\n",
       "  </tbody>\n",
       "</table>\n",
       "</div>"
      ],
      "text/plain": [
       "   Rating                                            Reviews Sentiment\n",
       "1       5  aram sy pocket may aa jta hai aur quality b ac...  Positive\n",
       "3       3  back cover acha hai sai cuts hai aur soft b ha...  Positive\n",
       "5       5  may ny ya lya kyu k ya madad karti h acha karn...  Positive\n",
       "6       4  mein neh shuru mein yeh haasil karne ki zahmat...  Positive\n",
       "8       1  bohat mehanga kya hai mein iss price brikt mei...  Negative"
      ]
     },
     "execution_count": 21,
     "metadata": {},
     "output_type": "execute_result"
    }
   ],
   "source": [
    "print(df.shape)\n",
    "df.head()"
   ]
  },
  {
   "cell_type": "code",
   "execution_count": 22,
   "id": "56f07d53-f414-49d8-9e93-30620b58a6fe",
   "metadata": {},
   "outputs": [
    {
     "data": {
      "text/plain": [
       "Positive    2226\n",
       "Neutral      568\n",
       "Negative     422\n",
       "Name: Sentiment, dtype: int64"
      ]
     },
     "execution_count": 22,
     "metadata": {},
     "output_type": "execute_result"
    }
   ],
   "source": [
    "df['Sentiment'].value_counts()"
   ]
  },
  {
   "cell_type": "code",
   "execution_count": 23,
   "id": "a425005d-2eb5-4e51-965b-63c15858ed16",
   "metadata": {},
   "outputs": [],
   "source": [
    "target={\"Positive\":1,\"Neutral\":2,\"Negative\":3}\n",
    "df['sentiment_num']=df['Sentiment'].map(target)"
   ]
  },
  {
   "cell_type": "code",
   "execution_count": 24,
   "id": "0a0a5676-362f-41c3-9b1b-f72750ab1ad3",
   "metadata": {},
   "outputs": [
    {
     "data": {
      "text/html": [
       "<div>\n",
       "<style scoped>\n",
       "    .dataframe tbody tr th:only-of-type {\n",
       "        vertical-align: middle;\n",
       "    }\n",
       "\n",
       "    .dataframe tbody tr th {\n",
       "        vertical-align: top;\n",
       "    }\n",
       "\n",
       "    .dataframe thead th {\n",
       "        text-align: right;\n",
       "    }\n",
       "</style>\n",
       "<table border=\"1\" class=\"dataframe\">\n",
       "  <thead>\n",
       "    <tr style=\"text-align: right;\">\n",
       "      <th></th>\n",
       "      <th>Rating</th>\n",
       "      <th>Reviews</th>\n",
       "      <th>Sentiment</th>\n",
       "      <th>sentiment_num</th>\n",
       "    </tr>\n",
       "  </thead>\n",
       "  <tbody>\n",
       "    <tr>\n",
       "      <th>1</th>\n",
       "      <td>5</td>\n",
       "      <td>aram sy pocket may aa jta hai aur quality b ac...</td>\n",
       "      <td>Positive</td>\n",
       "      <td>1</td>\n",
       "    </tr>\n",
       "    <tr>\n",
       "      <th>3</th>\n",
       "      <td>3</td>\n",
       "      <td>back cover acha hai sai cuts hai aur soft b ha...</td>\n",
       "      <td>Positive</td>\n",
       "      <td>1</td>\n",
       "    </tr>\n",
       "    <tr>\n",
       "      <th>5</th>\n",
       "      <td>5</td>\n",
       "      <td>may ny ya lya kyu k ya madad karti h acha karn...</td>\n",
       "      <td>Positive</td>\n",
       "      <td>1</td>\n",
       "    </tr>\n",
       "    <tr>\n",
       "      <th>6</th>\n",
       "      <td>4</td>\n",
       "      <td>mein neh shuru mein yeh haasil karne ki zahmat...</td>\n",
       "      <td>Positive</td>\n",
       "      <td>1</td>\n",
       "    </tr>\n",
       "    <tr>\n",
       "      <th>8</th>\n",
       "      <td>1</td>\n",
       "      <td>bohat mehanga kya hai mein iss price brikt mei...</td>\n",
       "      <td>Negative</td>\n",
       "      <td>3</td>\n",
       "    </tr>\n",
       "  </tbody>\n",
       "</table>\n",
       "</div>"
      ],
      "text/plain": [
       "   Rating                                            Reviews Sentiment  \\\n",
       "1       5  aram sy pocket may aa jta hai aur quality b ac...  Positive   \n",
       "3       3  back cover acha hai sai cuts hai aur soft b ha...  Positive   \n",
       "5       5  may ny ya lya kyu k ya madad karti h acha karn...  Positive   \n",
       "6       4  mein neh shuru mein yeh haasil karne ki zahmat...  Positive   \n",
       "8       1  bohat mehanga kya hai mein iss price brikt mei...  Negative   \n",
       "\n",
       "   sentiment_num  \n",
       "1              1  \n",
       "3              1  \n",
       "5              1  \n",
       "6              1  \n",
       "8              3  "
      ]
     },
     "execution_count": 24,
     "metadata": {},
     "output_type": "execute_result"
    }
   ],
   "source": [
    "df.head()"
   ]
  },
  {
   "cell_type": "code",
   "execution_count": 25,
   "id": "a78b2d5e-a258-4bdf-b6af-1749522eeb13",
   "metadata": {},
   "outputs": [
    {
     "data": {
      "text/html": [
       "<div>\n",
       "<style scoped>\n",
       "    .dataframe tbody tr th:only-of-type {\n",
       "        vertical-align: middle;\n",
       "    }\n",
       "\n",
       "    .dataframe tbody tr th {\n",
       "        vertical-align: top;\n",
       "    }\n",
       "\n",
       "    .dataframe thead th {\n",
       "        text-align: right;\n",
       "    }\n",
       "</style>\n",
       "<table border=\"1\" class=\"dataframe\">\n",
       "  <thead>\n",
       "    <tr style=\"text-align: right;\">\n",
       "      <th></th>\n",
       "      <th>Reviews</th>\n",
       "      <th>Rating</th>\n",
       "    </tr>\n",
       "  </thead>\n",
       "  <tbody>\n",
       "    <tr>\n",
       "      <th>1</th>\n",
       "      <td>aram sy pocket may aa jta hai aur quality b ac...</td>\n",
       "      <td>5</td>\n",
       "    </tr>\n",
       "    <tr>\n",
       "      <th>3</th>\n",
       "      <td>back cover acha hai sai cuts hai aur soft b ha...</td>\n",
       "      <td>3</td>\n",
       "    </tr>\n",
       "    <tr>\n",
       "      <th>5</th>\n",
       "      <td>may ny ya lya kyu k ya madad karti h acha karn...</td>\n",
       "      <td>5</td>\n",
       "    </tr>\n",
       "    <tr>\n",
       "      <th>6</th>\n",
       "      <td>mein neh shuru mein yeh haasil karne ki zahmat...</td>\n",
       "      <td>4</td>\n",
       "    </tr>\n",
       "    <tr>\n",
       "      <th>8</th>\n",
       "      <td>bohat mehanga kya hai mein iss price brikt mei...</td>\n",
       "      <td>1</td>\n",
       "    </tr>\n",
       "    <tr>\n",
       "      <th>...</th>\n",
       "      <td>...</td>\n",
       "      <td>...</td>\n",
       "    </tr>\n",
       "    <tr>\n",
       "      <th>3916</th>\n",
       "      <td>auto safai aur shamsi mutabqat ke af aal mojoo...</td>\n",
       "      <td>4</td>\n",
       "    </tr>\n",
       "    <tr>\n",
       "      <th>3917</th>\n",
       "      <td>kaam se kaam bijli ki istemaal ke sath thandi ...</td>\n",
       "      <td>5</td>\n",
       "    </tr>\n",
       "    <tr>\n",
       "      <th>3918</th>\n",
       "      <td>tasweer isi terhan tha jaisay tasweer aur tars...</td>\n",
       "      <td>3</td>\n",
       "    </tr>\n",
       "    <tr>\n",
       "      <th>3919</th>\n",
       "      <td>waqt par masool hwa aaccha lagta hai mein iss ...</td>\n",
       "      <td>5</td>\n",
       "    </tr>\n",
       "    <tr>\n",
       "      <th>3920</th>\n",
       "      <td>masnoaat isi terhan ki thi jaisay website par ...</td>\n",
       "      <td>3</td>\n",
       "    </tr>\n",
       "  </tbody>\n",
       "</table>\n",
       "<p>3216 rows × 2 columns</p>\n",
       "</div>"
      ],
      "text/plain": [
       "                                                Reviews  Rating\n",
       "1     aram sy pocket may aa jta hai aur quality b ac...       5\n",
       "3     back cover acha hai sai cuts hai aur soft b ha...       3\n",
       "5     may ny ya lya kyu k ya madad karti h acha karn...       5\n",
       "6     mein neh shuru mein yeh haasil karne ki zahmat...       4\n",
       "8     bohat mehanga kya hai mein iss price brikt mei...       1\n",
       "...                                                 ...     ...\n",
       "3916  auto safai aur shamsi mutabqat ke af aal mojoo...       4\n",
       "3917  kaam se kaam bijli ki istemaal ke sath thandi ...       5\n",
       "3918  tasweer isi terhan tha jaisay tasweer aur tars...       3\n",
       "3919  waqt par masool hwa aaccha lagta hai mein iss ...       5\n",
       "3920  masnoaat isi terhan ki thi jaisay website par ...       3\n",
       "\n",
       "[3216 rows x 2 columns]"
      ]
     },
     "execution_count": 25,
     "metadata": {},
     "output_type": "execute_result"
    }
   ],
   "source": [
    "df[['Reviews','Rating']]"
   ]
  },
  {
   "cell_type": "raw",
   "id": "7c1274d5-0247-4400-bf98-2316f976af19",
   "metadata": {},
   "source": [
    "X=df.drop(['sentiment_num','Sentiment'],axis=1)\n",
    "y=df['sentiment_num']"
   ]
  },
  {
   "cell_type": "raw",
   "id": "8e3d9200-6c1c-43ad-8fc5-e1321694e915",
   "metadata": {},
   "source": [
    "from sklearn.model_selection import train_test_split\n",
    "X_train,X_test,y_train,y_test=train_test_split(X,y,random_state=2024,test_size=0.2)\n",
    "X_train.shape,X_test.shape"
   ]
  },
  {
   "cell_type": "code",
   "execution_count": 26,
   "id": "c84059c2-8576-4cf2-a59e-cf6d7f9bf69d",
   "metadata": {},
   "outputs": [
    {
     "data": {
      "text/plain": [
       "((2572,), (644,))"
      ]
     },
     "execution_count": 26,
     "metadata": {},
     "output_type": "execute_result"
    }
   ],
   "source": [
    "from sklearn.model_selection import train_test_split\n",
    "X_train,X_test,y_train,y_test=train_test_split(df.Reviews,df.sentiment_num,random_state=2024,test_size=0.2,stratify=df.sentiment_num)\n",
    "X_train.shape,X_test.shape"
   ]
  },
  {
   "cell_type": "code",
   "execution_count": 27,
   "id": "e1fcd421-c381-4f79-b5c0-bcc92d044243",
   "metadata": {},
   "outputs": [
    {
     "data": {
      "text/plain": [
       "'paisay zaya ho gaye meine trip per jana tha mujhe picture mein jo thay ue ke bajaye bachon ke snorkels bhej diya'"
      ]
     },
     "execution_count": 27,
     "metadata": {},
     "output_type": "execute_result"
    }
   ],
   "source": [
    "X_train[:3][3243]"
   ]
  },
  {
   "cell_type": "raw",
   "id": "15b49a74-ec7f-4e31-9820-c00ce8530457",
   "metadata": {},
   "source": [
    "X_train_Review=X_train['Reviews']\n",
    "X_train_Rating=X_train['Rating']\n",
    "X_test_Review=X_test['Reviews']\n",
    "X_test_Rating=X_test['Rating']"
   ]
  },
  {
   "cell_type": "raw",
   "id": "5303c27e-c6dc-40ed-ab14-e20b794da9ec",
   "metadata": {},
   "source": [
    "from sklearn.feature_extraction.text import TfidfVectorizer,CountVectorizer\n",
    "cv=CountVectorizer(ngram_range=(1,1))\n",
    "X_train_Review_cv=cv.fit_transform(X_train_Review)\n",
    "X_test_Review_cv=cv.transform(X_test_Review)"
   ]
  },
  {
   "cell_type": "raw",
   "id": "31b0fd94-443d-46aa-84c2-72d604f1a2a5",
   "metadata": {},
   "source": [
    "a=pd.DataFrame(X_train_Review_cv.toarray())\n",
    "a.reset_index(drop=True, inplace=True)\n",
    "b=pd.DataFrame(X_train_Rating)\n",
    "b.reset_index(drop=True, inplace=True)"
   ]
  },
  {
   "cell_type": "raw",
   "id": "79ef8137-9f4d-432a-b78a-997fdd809b50",
   "metadata": {},
   "source": [
    "c=pd.DataFrame(X_test_Review_cv.toarray())\n",
    "c.reset_index(drop=True, inplace=True)\n",
    "d=pd.DataFrame(X_test_Rating)\n",
    "d.reset_index(drop=True, inplace=True)"
   ]
  },
  {
   "cell_type": "raw",
   "id": "2a1e4d18-0a67-4b23-a87c-ec0c67f12a81",
   "metadata": {},
   "source": [
    "combined_train = pd.concat([a, b], axis=1)\n",
    "combined_train.columns = combined_train.columns.astype(str)"
   ]
  },
  {
   "cell_type": "raw",
   "id": "4b2c2fdb-74bf-4bfd-94bf-e0ea9cb82070",
   "metadata": {},
   "source": [
    "combined_test = pd.concat([c, d], axis=1)\n",
    "combined_test.columns = combined_test.columns.astype(str)"
   ]
  },
  {
   "cell_type": "raw",
   "id": "5ae2c416-5c8b-4911-bcde-4cc7bd25ee48",
   "metadata": {},
   "source": [
    "from sklearn.ensemble import GradientBoostingClassifier\n",
    "GB=GradientBoostingClassifier(learning_rate=0.1,n_estimators=1000)\n",
    "GB.fit(combined_train,y_train)"
   ]
  },
  {
   "cell_type": "raw",
   "id": "2bc04ddb-7779-41c7-a8aa-fa4a795937a7",
   "metadata": {},
   "source": [
    "GB.score(combined_test,y_test)"
   ]
  },
  {
   "cell_type": "code",
   "execution_count": null,
   "id": "2c502b97-154b-4448-8fc3-39eda55dd817",
   "metadata": {},
   "outputs": [],
   "source": []
  },
  {
   "cell_type": "code",
   "execution_count": 28,
   "id": "8ee690d0-80ce-48f7-b40c-564de0d21065",
   "metadata": {},
   "outputs": [],
   "source": [
    "from sklearn.feature_extraction.text import TfidfVectorizer,CountVectorizer\n",
    "from sklearn.metrics import classification_report\n",
    "from sklearn.ensemble import GradientBoostingClassifier\n",
    "\n",
    "vec=CountVectorizer(ngram_range=(1,1))\n",
    "X_train_cv=vec.fit_transform(X_train)\n",
    "X_test_cv=vec.transform(X_test)"
   ]
  },
  {
   "cell_type": "code",
   "execution_count": 29,
   "id": "461070ee-5f6b-4689-9870-79dfa22117bf",
   "metadata": {},
   "outputs": [
    {
     "data": {
      "text/plain": [
       "0.8385093167701864"
      ]
     },
     "execution_count": 29,
     "metadata": {},
     "output_type": "execute_result"
    }
   ],
   "source": [
    "mod=GradientBoostingClassifier(learning_rate=0.1,n_estimators=2000)\n",
    "mod.fit(X_train_cv,y_train)\n",
    "mod.score(X_test_cv,y_test)"
   ]
  },
  {
   "cell_type": "code",
   "execution_count": 30,
   "id": "5d8dfde4-9215-4f57-b7f3-46bc95860ded",
   "metadata": {},
   "outputs": [
    {
     "name": "stdout",
     "output_type": "stream",
     "text": [
      "              precision    recall  f1-score   support\n",
      "\n",
      "           1       0.87      0.96      0.91       446\n",
      "           2       0.69      0.60      0.64       114\n",
      "           3       0.79      0.55      0.65        84\n",
      "\n",
      "    accuracy                           0.84       644\n",
      "   macro avg       0.78      0.70      0.73       644\n",
      "weighted avg       0.83      0.84      0.83       644\n",
      "\n"
     ]
    }
   ],
   "source": [
    "y_pred=mod.predict(X_test_cv.toarray())\n",
    "print(classification_report(y_test,y_pred))"
   ]
  },
  {
   "cell_type": "code",
   "execution_count": 31,
   "id": "e3b7e034-592c-4426-84bc-4a51ef669e81",
   "metadata": {},
   "outputs": [
    {
     "data": {
      "text/plain": [
       "array([1], dtype=int64)"
      ]
     },
     "execution_count": 31,
     "metadata": {},
     "output_type": "execute_result"
    }
   ],
   "source": [
    "Message=['bohot acha and very good quality']\n",
    "counts=vec.transform(Message)\n",
    "a=mod.predict(counts.toarray())\n",
    "a"
   ]
  },
  {
   "cell_type": "code",
   "execution_count": 32,
   "id": "37a03f65-7457-4f06-8cd0-c675a6ea50b2",
   "metadata": {},
   "outputs": [],
   "source": [
    "# 1--> Positive\n",
    "# 2--> Neutral\n",
    "# 3--> Negative"
   ]
  },
  {
   "cell_type": "code",
   "execution_count": null,
   "id": "27247b80-133c-401c-b6fa-d2cc7faabce1",
   "metadata": {},
   "outputs": [],
   "source": []
  }
 ],
 "metadata": {
  "kernelspec": {
   "display_name": "Python 3 (ipykernel)",
   "language": "python",
   "name": "python3"
  },
  "language_info": {
   "codemirror_mode": {
    "name": "ipython",
    "version": 3
   },
   "file_extension": ".py",
   "mimetype": "text/x-python",
   "name": "python",
   "nbconvert_exporter": "python",
   "pygments_lexer": "ipython3",
   "version": "3.11.2"
  }
 },
 "nbformat": 4,
 "nbformat_minor": 5
}
